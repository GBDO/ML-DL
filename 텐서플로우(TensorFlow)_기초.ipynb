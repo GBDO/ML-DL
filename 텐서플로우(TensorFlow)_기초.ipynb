{
  "nbformat": 4,
  "nbformat_minor": 0,
  "metadata": {
    "colab": {
      "name": "텐서플로우(TensorFlow) 기초.ipynb",
      "provenance": [],
      "collapsed_sections": []
    },
    "kernelspec": {
      "name": "python3",
      "display_name": "Python 3"
    },
    "accelerator": "GPU"
  },
  "cells": [
    {
      "cell_type": "markdown",
      "metadata": {
        "id": "mpf4TRENWJMZ"
      },
      "source": [
        "By_이수안컴퓨터연구소\n",
        "# 텐서플로우 (Tensorflow)\n",
        "\n",
        "<img src=\"https://upload.wikimedia.org/wikipedia/commons/thumb/1/11/TensorFlowLogo.svg/1200px-TensorFlowLogo.svg.png\" width=\"300\">\n",
        "\n",
        "- 가장 널리 쓰이는 딥러닝 프레임워크 중 하나\n",
        "\n",
        "- 구글이 주도적으로 개발하는 플랫폼\n",
        "\n",
        "- 파이썬, C++ API를 기본적으로 제공하고,  \n",
        "  자바스크립트(JavaScript), 자바(Java), 고(Go), 스위프트(Swift) 등 다양한 프로그래밍 언어를 지원\n",
        "\n",
        "- tf.keras를 중심으로 고수준 API 통합 (2.x 버전)\n",
        "\n",
        "- TPU(Tensor Processing Unit) 지원\n",
        "  - TPU는 GPU보다 전력을 적게 소모, 경제적\n",
        "  \n",
        "  - 일반적으로 32비트(float32)로 수행되는 곱셈 연산을 16비트(float16)로 낮춤"
      ]
    },
    {
      "cell_type": "markdown",
      "metadata": {
        "id": "a9-NEf2BWd4M"
      },
      "source": [
        "## 텐서플로우 아키텍쳐\n",
        "\n",
        "<img src=\"https://developers.google.com/machine-learning/crash-course/images/TFHierarchy.svg\">\n",
        "\n",
        "<sub>출처: https://developers.google.com/machine-learning/crash-course/first-steps-with-tensorflow/toolkit</sub>"
      ]
    },
    {
      "cell_type": "markdown",
      "metadata": {
        "id": "c_ktVhFhYUiE"
      },
      "source": [
        "## 텐서플로우 시작하기"
      ]
    },
    {
      "cell_type": "code",
      "metadata": {
        "id": "SP9HL3ZvV0zR"
      },
      "source": [
        "import numpy as np \n",
        "import tensorflow as tf"
      ],
      "execution_count": 1,
      "outputs": []
    },
    {
      "cell_type": "code",
      "metadata": {
        "id": "KvPQ0N4_YhDt",
        "colab": {
          "base_uri": "https://localhost:8080/"
        },
        "outputId": "6fa45925-8c89-46a0-b5e4-6a4924ec24a8"
      },
      "source": [
        "print(tf.__version__)"
      ],
      "execution_count": 2,
      "outputs": [
        {
          "output_type": "stream",
          "name": "stdout",
          "text": [
            "2.7.0\n"
          ]
        }
      ]
    },
    {
      "cell_type": "markdown",
      "metadata": {
        "id": "d-9usyAXY7Gw"
      },
      "source": [
        "### 텐서(Tensor)의 객체\n",
        "- 타입(Type): `string`, `float32`, `float16`, `int32`, `int8` 등\n",
        "\n",
        "- 형상(Shape): 0, 1, 2차원 등의 데이터 차원 \n",
        "\n",
        "- 축(Rank): 차원의 개수"
      ]
    },
    {
      "cell_type": "markdown",
      "metadata": {
        "id": "dZeigiNEZODl"
      },
      "source": [
        "### 텐서의 차원과 연산"
      ]
    },
    {
      "cell_type": "code",
      "metadata": {
        "id": "GMVq68gUYksh",
        "colab": {
          "base_uri": "https://localhost:8080/"
        },
        "outputId": "849ce24b-303e-4b6a-d629-facd83a8d75e"
      },
      "source": [
        "a= tf.constant(2)\n",
        "print(tf.rank(a))\n",
        "print(a)"
      ],
      "execution_count": 3,
      "outputs": [
        {
          "output_type": "stream",
          "name": "stdout",
          "text": [
            "tf.Tensor(0, shape=(), dtype=int32)\n",
            "tf.Tensor(2, shape=(), dtype=int32)\n"
          ]
        }
      ]
    },
    {
      "cell_type": "code",
      "metadata": {
        "id": "MgOKILDqZZKP",
        "colab": {
          "base_uri": "https://localhost:8080/"
        },
        "outputId": "7a3b5b7f-854f-4bea-e091-a3db80604f00"
      },
      "source": [
        "b= tf.constant([2, 3])\n",
        "print(tf.rank(b))\n",
        "print(b)"
      ],
      "execution_count": 4,
      "outputs": [
        {
          "output_type": "stream",
          "name": "stdout",
          "text": [
            "tf.Tensor(1, shape=(), dtype=int32)\n",
            "tf.Tensor([2 3], shape=(2,), dtype=int32)\n"
          ]
        }
      ]
    },
    {
      "cell_type": "code",
      "metadata": {
        "id": "k74H8ImTZbWi",
        "colab": {
          "base_uri": "https://localhost:8080/"
        },
        "outputId": "80730878-6035-42d4-e076-fc343ee283fe"
      },
      "source": [
        "c= tf.constant([[2, 3], [6, 7]])\n",
        "print(tf.rank(c))\n",
        "print(c)"
      ],
      "execution_count": 5,
      "outputs": [
        {
          "output_type": "stream",
          "name": "stdout",
          "text": [
            "tf.Tensor(2, shape=(), dtype=int32)\n",
            "tf.Tensor(\n",
            "[[2 3]\n",
            " [6 7]], shape=(2, 2), dtype=int32)\n"
          ]
        }
      ]
    },
    {
      "cell_type": "code",
      "metadata": {
        "id": "WmCCc587wkTy",
        "colab": {
          "base_uri": "https://localhost:8080/"
        },
        "outputId": "238d9143-14bc-4be6-faeb-0b34fb26d5f3"
      },
      "source": [
        "d= tf.constant(['Hello'])\n",
        "print(tf.rank(d))\n",
        "print(d)"
      ],
      "execution_count": 6,
      "outputs": [
        {
          "output_type": "stream",
          "name": "stdout",
          "text": [
            "tf.Tensor(1, shape=(), dtype=int32)\n",
            "tf.Tensor([b'Hello'], shape=(1,), dtype=string)\n"
          ]
        }
      ]
    },
    {
      "cell_type": "markdown",
      "metadata": {
        "id": "z3mgwo7FZ_0S"
      },
      "source": [
        "### 난수 생성"
      ]
    },
    {
      "cell_type": "code",
      "metadata": {
        "id": "eaT2dUJlZ2Cd",
        "colab": {
          "base_uri": "https://localhost:8080/"
        },
        "outputId": "7fa48525-06d4-4f7a-8d8c-43a12c5db77b"
      },
      "source": [
        "rand= tf.random.uniform([1], 0, 1)\n",
        "print(rand.shape)\n",
        "print(rand)"
      ],
      "execution_count": 7,
      "outputs": [
        {
          "output_type": "stream",
          "name": "stdout",
          "text": [
            "(1,)\n",
            "tf.Tensor([0.87997353], shape=(1,), dtype=float32)\n"
          ]
        }
      ]
    },
    {
      "cell_type": "code",
      "metadata": {
        "id": "KfgimJg9aFgB",
        "colab": {
          "base_uri": "https://localhost:8080/"
        },
        "outputId": "6f3546f9-c21f-4871-da60-f171692a5b33"
      },
      "source": [
        "rand2= tf.random.normal([1, 2], 0, 1)\n",
        "print(rand2.shape)\n",
        "print(rand2)"
      ],
      "execution_count": 8,
      "outputs": [
        {
          "output_type": "stream",
          "name": "stdout",
          "text": [
            "(1, 2)\n",
            "tf.Tensor([[1.1247874  0.35608903]], shape=(1, 2), dtype=float32)\n"
          ]
        }
      ]
    },
    {
      "cell_type": "code",
      "metadata": {
        "id": "R_xdzhG5aPxB",
        "colab": {
          "base_uri": "https://localhost:8080/"
        },
        "outputId": "f06f34e1-a3ea-4d71-8930-fef2faf649cd"
      },
      "source": [
        "rand3= tf.random.normal([3, 2], 0, 1)\n",
        "print(rand3.shape)\n",
        "print(rand3)"
      ],
      "execution_count": 9,
      "outputs": [
        {
          "output_type": "stream",
          "name": "stdout",
          "text": [
            "(3, 2)\n",
            "tf.Tensor(\n",
            "[[ 1.1338446   0.7135037 ]\n",
            " [-0.4960368  -0.27820966]\n",
            " [-0.39709574 -1.056124  ]], shape=(3, 2), dtype=float32)\n"
          ]
        }
      ]
    },
    {
      "cell_type": "markdown",
      "metadata": {
        "id": "Za7HlqVba5wD"
      },
      "source": [
        "### 즉시 실행 모드 (Eager Mode) 지원\n",
        "- 즉시 실행모드를 통해 텐서플로우를 파이썬처럼 사용할 수 있음\n",
        "\n",
        "- 1.x 버전에서는 '그래프'를 생성하고, 초기화 한 뒤에 세션을 통해 **값을 흐르게 하는 작업**을 진행해야함\n"
      ]
    },
    {
      "cell_type": "code",
      "metadata": {
        "id": "fVBqOSFrbQ1e"
      },
      "source": [
        "a= tf.constant(3)\n",
        "b= tf.constant(2)"
      ],
      "execution_count": 10,
      "outputs": []
    },
    {
      "cell_type": "code",
      "metadata": {
        "id": "1btItwSEbdEO",
        "colab": {
          "base_uri": "https://localhost:8080/"
        },
        "outputId": "aea828c8-62a2-494c-a29f-8d8ee9520a2b"
      },
      "source": [
        "print(tf.add(a, b))\n",
        "print(a + b)"
      ],
      "execution_count": 11,
      "outputs": [
        {
          "output_type": "stream",
          "name": "stdout",
          "text": [
            "tf.Tensor(5, shape=(), dtype=int32)\n",
            "tf.Tensor(5, shape=(), dtype=int32)\n"
          ]
        }
      ]
    },
    {
      "cell_type": "code",
      "metadata": {
        "id": "SaOXtxLpbfDC",
        "colab": {
          "base_uri": "https://localhost:8080/"
        },
        "outputId": "df9d71f9-bd70-4a5d-87fb-6a1ed5e609cc"
      },
      "source": [
        "print(tf.subtract(a, b))\n",
        "print(a - b)"
      ],
      "execution_count": 12,
      "outputs": [
        {
          "output_type": "stream",
          "name": "stdout",
          "text": [
            "tf.Tensor(1, shape=(), dtype=int32)\n",
            "tf.Tensor(1, shape=(), dtype=int32)\n"
          ]
        }
      ]
    },
    {
      "cell_type": "code",
      "metadata": {
        "id": "UCApXIDNbtLF",
        "colab": {
          "base_uri": "https://localhost:8080/"
        },
        "outputId": "7810f7ca-f077-4ad5-d96a-1b3a6ef47de8"
      },
      "source": [
        "print(tf.multiply(a, b))\n",
        "print(a * b)"
      ],
      "execution_count": 13,
      "outputs": [
        {
          "output_type": "stream",
          "name": "stdout",
          "text": [
            "tf.Tensor(6, shape=(), dtype=int32)\n",
            "tf.Tensor(6, shape=(), dtype=int32)\n"
          ]
        }
      ]
    },
    {
      "cell_type": "markdown",
      "metadata": {
        "id": "XyLkPW4Db67W"
      },
      "source": [
        "### 텐서 플로우 ↔ 넘파이\n",
        "- `numpy()`\n",
        "- `tf.convet_to_tensor()`"
      ]
    },
    {
      "cell_type": "code",
      "metadata": {
        "id": "c9AWzdJRb4Ez",
        "colab": {
          "base_uri": "https://localhost:8080/"
        },
        "outputId": "603e6b1b-a1a0-45b8-befe-8523604beba6"
      },
      "source": [
        "c= tf.add(a, b).numpy()\n",
        "print(type(c))"
      ],
      "execution_count": 14,
      "outputs": [
        {
          "output_type": "stream",
          "name": "stdout",
          "text": [
            "<class 'numpy.int32'>\n"
          ]
        }
      ]
    },
    {
      "cell_type": "code",
      "metadata": {
        "id": "ql4O755kcfnk",
        "colab": {
          "base_uri": "https://localhost:8080/"
        },
        "outputId": "060436b6-bb73-4152-cf81-f66e77716b94"
      },
      "source": [
        "c_square= np.square(c, dtype= np.float32)\n",
        "c_tensor= tf.convert_to_tensor(c_square)\n",
        "\n",
        "print(c_tensor)\n",
        "print(type(c_tensor))"
      ],
      "execution_count": 15,
      "outputs": [
        {
          "output_type": "stream",
          "name": "stdout",
          "text": [
            "tf.Tensor(25.0, shape=(), dtype=float32)\n",
            "<class 'tensorflow.python.framework.ops.EagerTensor'>\n"
          ]
        }
      ]
    },
    {
      "cell_type": "markdown",
      "metadata": {
        "id": "LmWKhcWVk00O"
      },
      "source": [
        "### 넘파이처럼 사용하기\n"
      ]
    },
    {
      "cell_type": "code",
      "metadata": {
        "id": "0on9RGRllNnX",
        "colab": {
          "base_uri": "https://localhost:8080/"
        },
        "outputId": "30352256-1138-4782-a8e2-85b1f8f4b839"
      },
      "source": [
        "t= tf.constant([[1., 2., 3.], [4., 5., 6.]])\n",
        "\n",
        "print(t.shape)\n",
        "print(t.dtype)"
      ],
      "execution_count": 16,
      "outputs": [
        {
          "output_type": "stream",
          "name": "stdout",
          "text": [
            "(2, 3)\n",
            "<dtype: 'float32'>\n"
          ]
        }
      ]
    },
    {
      "cell_type": "code",
      "metadata": {
        "id": "lhlyV7oklUIh",
        "colab": {
          "base_uri": "https://localhost:8080/"
        },
        "outputId": "356ddf37-4115-41b9-fa52-1343b613456a"
      },
      "source": [
        "print(t[:, 1:])"
      ],
      "execution_count": 17,
      "outputs": [
        {
          "output_type": "stream",
          "name": "stdout",
          "text": [
            "tf.Tensor(\n",
            "[[2. 3.]\n",
            " [5. 6.]], shape=(2, 2), dtype=float32)\n"
          ]
        }
      ]
    },
    {
      "cell_type": "code",
      "metadata": {
        "id": "glWL8MITlo7H",
        "colab": {
          "base_uri": "https://localhost:8080/"
        },
        "outputId": "336402a1-3c27-4b52-f130-cc63836c6ec4"
      },
      "source": [
        "t[..., 1, tf.newaxis]"
      ],
      "execution_count": 18,
      "outputs": [
        {
          "output_type": "execute_result",
          "data": {
            "text/plain": [
              "<tf.Tensor: shape=(2, 1), dtype=float32, numpy=\n",
              "array([[2.],\n",
              "       [5.]], dtype=float32)>"
            ]
          },
          "metadata": {},
          "execution_count": 18
        }
      ]
    },
    {
      "cell_type": "code",
      "metadata": {
        "id": "RtzQuhwnmRdu",
        "colab": {
          "base_uri": "https://localhost:8080/"
        },
        "outputId": "155b5855-fde1-45ce-bd5a-d83dbae05dff"
      },
      "source": [
        "t + 10"
      ],
      "execution_count": 19,
      "outputs": [
        {
          "output_type": "execute_result",
          "data": {
            "text/plain": [
              "<tf.Tensor: shape=(2, 3), dtype=float32, numpy=\n",
              "array([[11., 12., 13.],\n",
              "       [14., 15., 16.]], dtype=float32)>"
            ]
          },
          "metadata": {},
          "execution_count": 19
        }
      ]
    },
    {
      "cell_type": "code",
      "metadata": {
        "id": "Z5wQhZ0xmRi6",
        "colab": {
          "base_uri": "https://localhost:8080/"
        },
        "outputId": "0d42de96-7bef-4913-d213-1b51dd20bf8c"
      },
      "source": [
        "tf.square(t)"
      ],
      "execution_count": 20,
      "outputs": [
        {
          "output_type": "execute_result",
          "data": {
            "text/plain": [
              "<tf.Tensor: shape=(2, 3), dtype=float32, numpy=\n",
              "array([[ 1.,  4.,  9.],\n",
              "       [16., 25., 36.]], dtype=float32)>"
            ]
          },
          "metadata": {},
          "execution_count": 20
        }
      ]
    },
    {
      "cell_type": "code",
      "metadata": {
        "id": "Fj9RmYc6mRVh",
        "colab": {
          "base_uri": "https://localhost:8080/"
        },
        "outputId": "7df2101b-11c4-4222-9e65-ad56511cf31c"
      },
      "source": [
        "t @ tf.transpose(t)"
      ],
      "execution_count": 21,
      "outputs": [
        {
          "output_type": "execute_result",
          "data": {
            "text/plain": [
              "<tf.Tensor: shape=(2, 2), dtype=float32, numpy=\n",
              "array([[14., 32.],\n",
              "       [32., 77.]], dtype=float32)>"
            ]
          },
          "metadata": {},
          "execution_count": 21
        }
      ]
    },
    {
      "cell_type": "markdown",
      "metadata": {
        "id": "8y5wUIfpuhzL"
      },
      "source": [
        "### 타입 변환\n",
        "- 텐서의 기본 dtype\n",
        "  - float형 텐서: `float32`\n",
        "  - int형 텐서: `int32`\n",
        "\n",
        "- 연산시 텐서의 타입을 맞춰줘야 함\n",
        "  - `float32` ~ `float32`\n",
        "  - `int32` ~ `int32`\n",
        "  - `flot32` ~ `int32` (x)\n",
        "\n",
        "- 타입변환에는 `tf.cast()` 사용"
      ]
    },
    {
      "cell_type": "code",
      "metadata": {
        "id": "RMwFpHCAvEFG",
        "colab": {
          "base_uri": "https://localhost:8080/"
        },
        "outputId": "441b11b2-1abf-4170-938e-d49db7f64de8"
      },
      "source": [
        "a= tf.constant(2)\n",
        "print(a)\n",
        "\n",
        "b= tf.constant(2.)\n",
        "print(b)"
      ],
      "execution_count": 22,
      "outputs": [
        {
          "output_type": "stream",
          "name": "stdout",
          "text": [
            "tf.Tensor(2, shape=(), dtype=int32)\n",
            "tf.Tensor(2.0, shape=(), dtype=float32)\n"
          ]
        }
      ]
    },
    {
      "cell_type": "code",
      "metadata": {
        "id": "rVb9KZSKui_c"
      },
      "source": [
        "#tf.constant(2.) + tf.constant(40)"
      ],
      "execution_count": 23,
      "outputs": []
    },
    {
      "cell_type": "code",
      "metadata": {
        "id": "-Lz79b8Fumsy"
      },
      "source": [
        "#tf.constant(2.) + tf.constant(30., dtype=tf.float64)"
      ],
      "execution_count": 24,
      "outputs": []
    },
    {
      "cell_type": "code",
      "metadata": {
        "id": "qH2HEmwIvbUx",
        "colab": {
          "base_uri": "https://localhost:8080/"
        },
        "outputId": "aac054d2-88ea-4134-8783-78821dcbd67d"
      },
      "source": [
        "t= tf.constant(30., dtype=tf.float64)\n",
        "t2= tf.constant(5.)\n",
        "\n",
        "print(t2 + tf.cast(t, tf.float32))"
      ],
      "execution_count": 25,
      "outputs": [
        {
          "output_type": "stream",
          "name": "stdout",
          "text": [
            "tf.Tensor(35.0, shape=(), dtype=float32)\n"
          ]
        }
      ]
    },
    {
      "cell_type": "markdown",
      "metadata": {
        "id": "E3IX5JwVZePH"
      },
      "source": [
        "### AutoGraph (오토그래프)\n",
        "\n",
        "- Tensorflow가 작업을 좀 더 빠르게 동작하게 하기 위한 방법으로 Graph로 만들어 연산을 진행\n",
        "\n",
        "- `tf.Graph`\n",
        "\n",
        "- 유연성이 있음\n",
        "\n",
        "  - 모바일 애플리케이션, 임베디드 기기, 백엔드 서버와 같이 Python 인터프리터가 없는 환경에서 Tensorflow 사용 가능 "
      ]
    },
    {
      "cell_type": "code",
      "metadata": {
        "id": "78VD-XWRaea5"
      },
      "source": [
        "import timeit"
      ],
      "execution_count": 26,
      "outputs": []
    },
    {
      "cell_type": "markdown",
      "metadata": {
        "id": "YxNt6nejc8Ei"
      },
      "source": [
        "### @tf.function\n",
        "- 자동으로 그래프를 생성(Auto Graph)\n",
        "\n",
        "- 그래프로 변환하여 사용 -> GPU 연산 가능\n",
        "\n",
        "- 파이썬으로 구성된 함수를 텐서플로우의 그래프 형태로 다루고 싶을 때 사용가능\n",
        "\n",
        "\n",
        "- 원본 함수가 필요하다면 `(tf.function).python_function()`"
      ]
    },
    {
      "cell_type": "code",
      "metadata": {
        "id": "gq5NFuLjcukw",
        "colab": {
          "base_uri": "https://localhost:8080/"
        },
        "outputId": "053b06ed-faf8-4a63-98ef-70abeac8f255"
      },
      "source": [
        "@tf.function\n",
        "def my_function(x):\n",
        "  return x**2 - 10*x + 3\n",
        "\n",
        "print(my_function(2))\n",
        "print(my_function(tf.constant(2)))"
      ],
      "execution_count": 27,
      "outputs": [
        {
          "output_type": "stream",
          "name": "stdout",
          "text": [
            "tf.Tensor(-13, shape=(), dtype=int32)\n",
            "tf.Tensor(-13, shape=(), dtype=int32)\n"
          ]
        }
      ]
    },
    {
      "cell_type": "code",
      "metadata": {
        "id": "hR3RAAIQd8J7",
        "colab": {
          "base_uri": "https://localhost:8080/"
        },
        "outputId": "3546c06f-b3e9-4ffc-d721-681780d738f3"
      },
      "source": [
        "def my_function_(x):\n",
        "  return x**2 - 10*x + 3\n",
        "\n",
        "print(my_function_(2))\n",
        "print(my_function_(tf.constant(2)))"
      ],
      "execution_count": 28,
      "outputs": [
        {
          "output_type": "stream",
          "name": "stdout",
          "text": [
            "-13\n",
            "tf.Tensor(-13, shape=(), dtype=int32)\n"
          ]
        }
      ]
    },
    {
      "cell_type": "code",
      "metadata": {
        "id": "bsy3eabmy8X8",
        "colab": {
          "base_uri": "https://localhost:8080/"
        },
        "outputId": "ce8da5e3-d0a9-4ae9-e513-7cddd4cf1811"
      },
      "source": [
        "tf_my_func= tf.function(my_function_)\n",
        "print(tf_my_func)\n",
        "print(tf_my_func(2))"
      ],
      "execution_count": 29,
      "outputs": [
        {
          "output_type": "stream",
          "name": "stdout",
          "text": [
            "<tensorflow.python.eager.def_function.Function object at 0x7f1410396150>\n",
            "tf.Tensor(-13, shape=(), dtype=int32)\n"
          ]
        }
      ]
    },
    {
      "cell_type": "code",
      "metadata": {
        "id": "TgwwgQvjzKqn",
        "colab": {
          "base_uri": "https://localhost:8080/"
        },
        "outputId": "1ac3d252-620d-4f16-e68b-636b1ee0e63f"
      },
      "source": [
        "tf_my_func.python_function(2)"
      ],
      "execution_count": 30,
      "outputs": [
        {
          "output_type": "execute_result",
          "data": {
            "text/plain": [
              "-13"
            ]
          },
          "metadata": {},
          "execution_count": 30
        }
      ]
    },
    {
      "cell_type": "code",
      "metadata": {
        "id": "1pkBOpWhaehO",
        "colab": {
          "base_uri": "https://localhost:8080/"
        },
        "outputId": "02d9421e-b730-497f-a88f-85361c968422"
      },
      "source": [
        "def function_to_get_faster(x, y, b):\n",
        "  x= tf.matmul(x, y)\n",
        "  x= x + b\n",
        "  return x\n",
        "\n",
        "a_function_that_uses_a_graph = tf.function(function_to_get_faster)\n",
        "\n",
        "x1= tf.constant([[1.0, 2.0]])\n",
        "y1= tf.constant([[2.0],[3.0]])\n",
        "b1= tf.constant(4.0)\n",
        "\n",
        "a_function_that_uses_a_graph(x1, y1, b1).numpy()"
      ],
      "execution_count": 31,
      "outputs": [
        {
          "output_type": "execute_result",
          "data": {
            "text/plain": [
              "array([[12.]], dtype=float32)"
            ]
          },
          "metadata": {},
          "execution_count": 31
        }
      ]
    },
    {
      "cell_type": "code",
      "metadata": {
        "id": "rcLAgLKfaepn",
        "colab": {
          "base_uri": "https://localhost:8080/"
        },
        "outputId": "68f462a0-7284-42f4-8b07-0119398c3504"
      },
      "source": [
        "from operator import matmul\n",
        "def inner_function(x, y, b):\n",
        "  x= tf.matmul(x, y)\n",
        "  x= x + b\n",
        "  return x\n",
        "\n",
        "@tf.function\n",
        "def outer_function(x):\n",
        "  y= tf.constant([[2.0], [3.0]])\n",
        "  b= tf.constant(4.0)\n",
        "  return inner_function(x, y, b)\n",
        "\n",
        "outer_function(tf.constant([[1.0, 2.0]])).numpy()"
      ],
      "execution_count": 32,
      "outputs": [
        {
          "output_type": "execute_result",
          "data": {
            "text/plain": [
              "array([[12.]], dtype=float32)"
            ]
          },
          "metadata": {},
          "execution_count": 32
        }
      ]
    },
    {
      "cell_type": "markdown",
      "metadata": {
        "id": "mXLYEP4fbSYe"
      },
      "source": [
        "텐서플로우가 `tf.function`으로 변환한 코드"
      ]
    },
    {
      "cell_type": "code",
      "metadata": {
        "id": "i6cqueZuWN1g",
        "colab": {
          "base_uri": "https://localhost:8080/"
        },
        "outputId": "8ad52a1d-45a2-49a5-881c-c1bcb4f8c307"
      },
      "source": [
        "print(tf.autograph.to_code(my_function.python_function))\n",
        "print(tf.autograph.to_code(tf_my_func.python_function))\n",
        "print(tf.autograph.to_code(outer_function.python_function))"
      ],
      "execution_count": 33,
      "outputs": [
        {
          "output_type": "stream",
          "name": "stdout",
          "text": [
            "def tf__my_function(x):\n",
            "    with ag__.FunctionScope('my_function', 'fscope', ag__.ConversionOptions(recursive=True, user_requested=True, optional_features=(), internal_convert_user_code=True)) as fscope:\n",
            "        do_return = False\n",
            "        retval_ = ag__.UndefinedReturnValue()\n",
            "        try:\n",
            "            do_return = True\n",
            "            retval_ = (((ag__.ld(x) ** 2) - (10 * ag__.ld(x))) + 3)\n",
            "        except:\n",
            "            do_return = False\n",
            "            raise\n",
            "        return fscope.ret(retval_, do_return)\n",
            "\n",
            "def tf__my_function_(x):\n",
            "    with ag__.FunctionScope('my_function_', 'fscope', ag__.ConversionOptions(recursive=True, user_requested=True, optional_features=(), internal_convert_user_code=True)) as fscope:\n",
            "        do_return = False\n",
            "        retval_ = ag__.UndefinedReturnValue()\n",
            "        try:\n",
            "            do_return = True\n",
            "            retval_ = (((ag__.ld(x) ** 2) - (10 * ag__.ld(x))) + 3)\n",
            "        except:\n",
            "            do_return = False\n",
            "            raise\n",
            "        return fscope.ret(retval_, do_return)\n",
            "\n",
            "def tf__outer_function(x):\n",
            "    with ag__.FunctionScope('outer_function', 'fscope', ag__.ConversionOptions(recursive=True, user_requested=True, optional_features=(), internal_convert_user_code=True)) as fscope:\n",
            "        do_return = False\n",
            "        retval_ = ag__.UndefinedReturnValue()\n",
            "        y = ag__.converted_call(ag__.ld(tf).constant, ([[2.0], [3.0]],), None, fscope)\n",
            "        b = ag__.converted_call(ag__.ld(tf).constant, (4.0,), None, fscope)\n",
            "        try:\n",
            "            do_return = True\n",
            "            retval_ = ag__.converted_call(ag__.ld(inner_function), (ag__.ld(x), ag__.ld(y), ag__.ld(b)), None, fscope)\n",
            "        except:\n",
            "            do_return = False\n",
            "            raise\n",
            "        return fscope.ret(retval_, do_return)\n",
            "\n"
          ]
        }
      ]
    },
    {
      "cell_type": "markdown",
      "metadata": {
        "id": "hf2KCJu1bdg_"
      },
      "source": [
        "\n",
        " 속도 향상\n"
      ]
    },
    {
      "cell_type": "code",
      "metadata": {
        "id": "6GC4f2HvbfNT",
        "colab": {
          "base_uri": "https://localhost:8080/"
        },
        "outputId": "e4a69ef7-7eac-4abf-d914-3dacb437bccd"
      },
      "source": [
        "class SequentialModel(tf.keras.Model):\n",
        " def __init__(self, **kwargs):\n",
        "    super(SequentialModel, self).__init__(**kwargs)\n",
        "    self.flatten= tf.keras.layers.Flatten(input_shape= (28, 28))\n",
        "    self.dense_1 = tf.keras.layers.Dense(128, activation= 'relu')\n",
        "    self.dropout= tf.keras.layers.Dropout(0.2)\n",
        "    self.dense_2= tf.keras.layers.Dense(10)\n",
        "\n",
        " def call(self, x):\n",
        "    x= self.flatten(x)\n",
        "    x= self.dense_1(x)\n",
        "    x= self.dropout(x)\n",
        "    x= self.dense_2(x)\n",
        "    return x\n",
        "\n",
        "input_data= tf.random.uniform([60, 28, 28])\n",
        "\n",
        "eager_model= SequentialModel()\n",
        "graph_model= tf.function(eager_model)\n",
        "\n",
        "print(\"Eager time: \",timeit.timeit(lambda: eager_model(input_data), number=10000))\n",
        "print(\"Graph time: \", timeit.timeit(lambda: graph_model(input_data), number=10000))"
      ],
      "execution_count": 34,
      "outputs": [
        {
          "output_type": "stream",
          "name": "stdout",
          "text": [
            "Eager time:  15.668476594999447\n",
            "Graph time:  4.694913154999995\n"
          ]
        }
      ]
    },
    {
      "cell_type": "markdown",
      "metadata": {
        "id": "EizHAodregRR"
      },
      "source": [
        "### 변수 생성\n",
        "\n",
        "- `tf.Variable`\n",
        "- 딥러닝 모델 학습 시, 그래프 연산이 필요할 때 사용"
      ]
    },
    {
      "cell_type": "code",
      "metadata": {
        "id": "PybmfPcAeH-S",
        "colab": {
          "base_uri": "https://localhost:8080/"
        },
        "outputId": "787cdb9e-fd35-48e3-a323-a452d491f74d"
      },
      "source": [
        "X= tf.Variable(20.0)\n",
        "print(X)"
      ],
      "execution_count": 35,
      "outputs": [
        {
          "output_type": "stream",
          "name": "stdout",
          "text": [
            "<tf.Variable 'Variable:0' shape=() dtype=float32, numpy=20.0>\n"
          ]
        }
      ]
    },
    {
      "cell_type": "markdown",
      "metadata": {
        "id": "qY_oUvVneiHH"
      },
      "source": [
        "### Autograd (자동 미분)\n",
        "\n",
        "- `tf.GradientTape` API를 사용\n",
        "- `tf.Variable` 같은 일부 입력에 대한 기울기 계산\n",
        "  - 기본적으로 한번만 사용됨\n",
        "- 변수가 포함된 연산만 기록"
      ]
    },
    {
      "cell_type": "code",
      "metadata": {
        "id": "4_lrTYZfeiHO"
      },
      "source": [
        "x= tf.Variable(3.0)\n",
        "\n",
        "with tf.GradientTape() as tape:\n",
        "  y= x**2"
      ],
      "execution_count": 36,
      "outputs": []
    },
    {
      "cell_type": "code",
      "metadata": {
        "id": "1Tq7MMJTeiHQ",
        "colab": {
          "base_uri": "https://localhost:8080/"
        },
        "outputId": "9b39b449-c2ac-412e-ffc6-e52b0be57a2d"
      },
      "source": [
        "dy_dx= tape.gradient(y, x)\n",
        "dy_dx.numpy"
      ],
      "execution_count": 37,
      "outputs": [
        {
          "output_type": "execute_result",
          "data": {
            "text/plain": [
              "<bound method _EagerTensorBase.numpy of <tf.Tensor: shape=(), dtype=float32, numpy=6.0>>"
            ]
          },
          "metadata": {},
          "execution_count": 37
        }
      ]
    },
    {
      "cell_type": "code",
      "metadata": {
        "id": "y0wty7V3eiHT",
        "colab": {
          "base_uri": "https://localhost:8080/"
        },
        "outputId": "1a70e2c2-f1f7-41ba-817e-f53a8f707e1a"
      },
      "source": [
        "x= tf.Variable(2.0)\n",
        "y= tf.Variable(3.0)\n",
        "\n",
        "with tf.GradientTape() as tape:\n",
        "  y_sq= y**2\n",
        "  z= x**2 + tf.stop_gradient(y_sq)\n",
        "\n",
        "grad= tape.gradient(z,{'x':x, 'y':y})\n",
        "print('dz/dx: ', grad['x'])\n",
        "print('dz/dy: ', grad['y'])"
      ],
      "execution_count": 38,
      "outputs": [
        {
          "output_type": "stream",
          "name": "stdout",
          "text": [
            "dz/dx:  tf.Tensor(4.0, shape=(), dtype=float32)\n",
            "dz/dy:  None\n"
          ]
        }
      ]
    },
    {
      "cell_type": "code",
      "metadata": {
        "id": "itJftqGlfWmy"
      },
      "source": [
        "weights= tf.Variable(tf.random.normal((3,2)), name='weights')\n",
        "biases= tf.Variable(tf.zeros(2, dtype=tf.float32), name='biases')\n",
        "x=[[1., 2., 3.,]]\n",
        "\n",
        "with tf.GradientTape(persistent=True) as tape:\n",
        "  y=x @ weights + biases\n",
        "  loss=tf.reduce_mean(y**2)"
      ],
      "execution_count": 39,
      "outputs": []
    },
    {
      "cell_type": "code",
      "source": [
        "[dl_dw, dl_db] = tape.gradient(loss, [weights, biases])"
      ],
      "metadata": {
        "id": "TNNGLO3XLFqx"
      },
      "execution_count": 40,
      "outputs": []
    },
    {
      "cell_type": "code",
      "metadata": {
        "id": "Np-JoGSneiHW",
        "colab": {
          "base_uri": "https://localhost:8080/"
        },
        "outputId": "c16e67dc-c548-4049-991f-7749ebd288d6"
      },
      "source": [
        "print(weights.shape)\n",
        "print(dl_dw.shape)"
      ],
      "execution_count": 41,
      "outputs": [
        {
          "output_type": "stream",
          "name": "stdout",
          "text": [
            "(3, 2)\n",
            "(3, 2)\n"
          ]
        }
      ]
    },
    {
      "cell_type": "code",
      "metadata": {
        "id": "OMhB1rONeiHY",
        "colab": {
          "base_uri": "https://localhost:8080/"
        },
        "outputId": "9964b16c-645b-4244-ef93-dbf4a2212076"
      },
      "source": [
        "weights2 = tf.Variable(tf.random.normal((3,2)), name='weights')\n",
        "biases2 = tf.Variable(tf.zeros(2, dtype=tf.float32), name='biases')\n",
        "x2 = [[4., 5., 6.]]\n",
        "\n",
        "[dl_dw2, dl_db2] = tape.gradient(loss, [weights2, biases2])\n",
        "\n",
        "print(weights2.shape)\n",
        "print(dl_dw.shape)"
      ],
      "execution_count": 42,
      "outputs": [
        {
          "output_type": "stream",
          "name": "stdout",
          "text": [
            "(3, 2)\n",
            "(3, 2)\n"
          ]
        }
      ]
    },
    {
      "cell_type": "code",
      "metadata": {
        "id": "7mS4UrqgeiHa"
      },
      "source": [
        "del tape"
      ],
      "execution_count": 43,
      "outputs": []
    },
    {
      "cell_type": "markdown",
      "metadata": {
        "id": "FcG5ddWTgjMq"
      },
      "source": [
        "## 간단한 신경망 구조 "
      ]
    },
    {
      "cell_type": "markdown",
      "metadata": {
        "id": "fXE8tlU7gkrV"
      },
      "source": [
        "### 뉴런\n",
        "- 입력 → 연산 → 활성화함수 → 출력"
      ]
    },
    {
      "cell_type": "code",
      "metadata": {
        "id": "B-DUt6cZe7iD"
      },
      "source": [
        "def sigmoid(x):\n",
        "  return (1 / (1 + np.exp(-x)))\n",
        "\n",
        "def Neuron(x, W, bias=0):\n",
        "  z = x * W + bias\n",
        "  return sigmoid(z)"
      ],
      "execution_count": 44,
      "outputs": []
    },
    {
      "cell_type": "code",
      "metadata": {
        "id": "r8baxM6mg_XQ",
        "colab": {
          "base_uri": "https://localhost:8080/"
        },
        "outputId": "323028fe-63b4-43f9-8f21-b339ef5399f2"
      },
      "source": [
        "x = tf.random.normal((1, 2), 0, 1)\n",
        "W = tf.random.normal((1, 2), 0, 1)\n",
        "\n",
        "print('x.shape: ', x.shape)\n",
        "print('W.shape: ', W.shape)\n",
        "\n",
        "print(x)\n",
        "print(W)\n",
        "\n",
        "print(Neuron(x,W))"
      ],
      "execution_count": 45,
      "outputs": [
        {
          "output_type": "stream",
          "name": "stdout",
          "text": [
            "x.shape:  (1, 2)\n",
            "W.shape:  (1, 2)\n",
            "tf.Tensor([[-0.6129786 -0.6994803]], shape=(1, 2), dtype=float32)\n",
            "tf.Tensor([[ 0.3367239 -0.7903895]], shape=(1, 2), dtype=float32)\n",
            "[[0.44858128 0.6347993 ]]\n"
          ]
        }
      ]
    },
    {
      "cell_type": "code",
      "metadata": {
        "id": "I7D57W93htFt",
        "colab": {
          "base_uri": "https://localhost:8080/"
        },
        "outputId": "539411e7-6b75-40b4-d291-8abaa8b3a131"
      },
      "source": [
        "x = tf.random.normal((2, 1), 0, 1)\n",
        "W = tf.random.normal((2, 1), 0, 1)\n",
        "\n",
        "print('x.shape: ', x.shape)\n",
        "print('W.shape: ', W.shape)\n",
        "\n",
        "print(x)\n",
        "print(W)\n",
        "\n",
        "print(Neuron(x,W))"
      ],
      "execution_count": 46,
      "outputs": [
        {
          "output_type": "stream",
          "name": "stdout",
          "text": [
            "x.shape:  (2, 1)\n",
            "W.shape:  (2, 1)\n",
            "tf.Tensor(\n",
            "[[1.2999263 ]\n",
            " [0.31318796]], shape=(2, 1), dtype=float32)\n",
            "tf.Tensor(\n",
            "[[-0.00249255]\n",
            " [-0.601544  ]], shape=(2, 1), dtype=float32)\n",
            "[[0.49918997]\n",
            " [0.45303974]]\n"
          ]
        }
      ]
    },
    {
      "cell_type": "code",
      "metadata": {
        "id": "IKeoXsJBhzPk",
        "colab": {
          "base_uri": "https://localhost:8080/"
        },
        "outputId": "ff06468c-922a-438c-ed98-c88ab1852a41"
      },
      "source": [
        "x = tf.random.normal((1, ), 0, 1)\n",
        "W = tf.random.normal((2, 1), 0, 1)\n",
        "\n",
        "print('x.shape: ', x.shape)\n",
        "print('W.shape: ', W.shape)\n",
        "\n",
        "print(x)\n",
        "print(W)\n",
        "\n",
        "print(Neuron(x,W))"
      ],
      "execution_count": 47,
      "outputs": [
        {
          "output_type": "stream",
          "name": "stdout",
          "text": [
            "x.shape:  (1,)\n",
            "W.shape:  (2, 1)\n",
            "tf.Tensor([-0.35024163], shape=(1,), dtype=float32)\n",
            "tf.Tensor(\n",
            "[[ 1.0764319]\n",
            " [-1.1829679]], shape=(2, 1), dtype=float32)\n",
            "[[0.40684798]\n",
            " [0.6021244 ]]\n"
          ]
        }
      ]
    },
    {
      "cell_type": "markdown",
      "metadata": {
        "id": "ATmvx1utmmMl"
      },
      "source": [
        "### 퍼셉트론 학습 알고리즘 (가중치 업데이트)\n",
        "\n",
        "## $\\qquad w^{(next step)} = w + \\eta \\ (y - \\tilde{y}) \\ x$\n",
        "\n",
        "- $w \\ $: 가중치\n",
        "\n",
        "- $\\eta \\ $ : 학습률\n",
        "\n",
        "- $y \\ $ : 정답 레이블\n",
        "\n",
        "- $\\tilde{y} \\ $: 예측 레이블\n"
      ]
    },
    {
      "cell_type": "code",
      "metadata": {
        "id": "7f-3qRCHXO9m",
        "colab": {
          "base_uri": "https://localhost:8080/"
        },
        "outputId": "e6713577-ced4-44b3-a1d4-176627efa8fb"
      },
      "source": [
        "x= 1\n",
        "y= 0\n",
        "W= tf.random.normal([1], 0, 1)\n",
        "print(Neuron(x, W))\n",
        "print('y: ', y)"
      ],
      "execution_count": 48,
      "outputs": [
        {
          "output_type": "stream",
          "name": "stdout",
          "text": [
            "[0.5692325]\n",
            "y:  0\n"
          ]
        }
      ]
    },
    {
      "cell_type": "code",
      "metadata": {
        "id": "S8JG-rbdml_v",
        "colab": {
          "base_uri": "https://localhost:8080/"
        },
        "outputId": "45ee12ea-ffb4-4b69-a6aa-acfea6ff8f71"
      },
      "source": [
        "for i in range(1000):\n",
        "  output = Neuron(x, W)\n",
        "  error= y - output\n",
        "  W= W + x * 0.1 * error\n",
        "\n",
        "  if i % 100 == 99:\n",
        "    print(f\"{i+1}\\t{error}\\t{output}\")"
      ],
      "execution_count": 49,
      "outputs": [
        {
          "output_type": "stream",
          "name": "stdout",
          "text": [
            "100\t[-0.10705718]\t[0.10705718]\n",
            "200\t[-0.05368525]\t[0.05368525]\n",
            "300\t[-0.03544389]\t[0.03544389]\n",
            "400\t[-0.02636903]\t[0.02636903]\n",
            "500\t[-0.02096441]\t[0.02096441]\n",
            "600\t[-0.01738576]\t[0.01738576]\n",
            "700\t[-0.01484437]\t[0.01484437]\n",
            "800\t[-0.01294767]\t[0.01294767]\n",
            "900\t[-0.01147867]\t[0.01147867]\n",
            "1000\t[-0.01030771]\t[0.01030771]\n"
          ]
        }
      ]
    },
    {
      "cell_type": "code",
      "metadata": {
        "id": "vrJKCpf0VyOR"
      },
      "source": [
        "def Neuron2(x, W, bias=0):\n",
        "  z= tf.matmul(x, W, transpose_b=True) + bias\n",
        "  return sigmoid(z)"
      ],
      "execution_count": 50,
      "outputs": []
    },
    {
      "cell_type": "code",
      "metadata": {
        "id": "dkLHtKQ8htRg",
        "colab": {
          "base_uri": "https://localhost:8080/"
        },
        "outputId": "8b5a5ec1-9e7c-4264-983c-b2ac34827090"
      },
      "source": [
        "x= tf.random.normal((1,3), 0, 1)\n",
        "y= tf.ones(1)\n",
        "W= tf.random.normal((1, 3), 0, 1)\n",
        "\n",
        "print(Neuron2(x, W))\n",
        "print(\"y: \", y)"
      ],
      "execution_count": 51,
      "outputs": [
        {
          "output_type": "stream",
          "name": "stdout",
          "text": [
            "[[0.41808838]]\n",
            "y:  tf.Tensor([1.], shape=(1,), dtype=float32)\n"
          ]
        }
      ]
    },
    {
      "cell_type": "code",
      "metadata": {
        "id": "udZu2_rQo1SH",
        "colab": {
          "base_uri": "https://localhost:8080/"
        },
        "outputId": "4335e5ce-b2df-489a-95b6-d94b5d3627b2"
      },
      "source": [
        "for i in range(1000):\n",
        "  output= Neuron2(x, W)\n",
        "  error= y - output\n",
        "  W= W + x * 0.1 * error\n",
        "  \n",
        "  if i % 100 == 99:\n",
        "    print(f\"{i+1}\\t{error}\\t{output}\")"
      ],
      "execution_count": 52,
      "outputs": [
        {
          "output_type": "stream",
          "name": "stdout",
          "text": [
            "100\t[[0.1150493]]\t[[0.8849507]]\n",
            "200\t[[0.05769354]]\t[[0.94230646]]\n",
            "300\t[[0.03805554]]\t[[0.96194446]]\n",
            "400\t[[0.02829146]]\t[[0.97170854]]\n",
            "500\t[[0.02248049]]\t[[0.9775195]]\n",
            "600\t[[0.01863521]]\t[[0.9813648]]\n",
            "700\t[[0.01590592]]\t[[0.9840941]]\n",
            "800\t[[0.01386982]]\t[[0.9861302]]\n",
            "900\t[[0.01229352]]\t[[0.9877065]]\n",
            "1000\t[[0.01103729]]\t[[0.9889627]]\n"
          ]
        }
      ]
    },
    {
      "cell_type": "code",
      "metadata": {
        "id": "X7rw7DAxbCcu",
        "colab": {
          "base_uri": "https://localhost:8080/"
        },
        "outputId": "f2a7bdec-109c-4adf-98f5-fca476f31beb"
      },
      "source": [
        "x= tf.random.normal((1,3), 0, 1)\n",
        "weights= tf.random.normal((1, 3), 0, 1)\n",
        "bias= tf.zeros((1,1))\n",
        "y= tf.ones((1, ))\n",
        "print(f\"x\\t: {x}\\nweights\\t: {weights}\\nbias\\t: {bias}\")"
      ],
      "execution_count": 53,
      "outputs": [
        {
          "output_type": "stream",
          "name": "stdout",
          "text": [
            "x\t: [[0.01722292 0.8608947  1.5968812 ]]\n",
            "weights\t: [[0.38192022 0.3882794  0.12913732]]\n",
            "bias\t: [[0.]]\n"
          ]
        }
      ]
    },
    {
      "cell_type": "code",
      "metadata": {
        "id": "Of-hjiq1pKF2",
        "colab": {
          "base_uri": "https://localhost:8080/"
        },
        "outputId": "d1c5a59f-1cce-470a-9858-71a431ec429b"
      },
      "source": [
        "for i in range(1000):\n",
        "  output= Neuron2(x, weights, bias=bias)\n",
        "  error= y - output\n",
        "  weights= weights + x * 0.1 * error\n",
        "  bias= bias + 1 * 0.1 * error\n",
        "\n",
        "  if i % 100 == 99:\n",
        "    print(f\"{i+1}\\t{error}\\t{output}\")"
      ],
      "execution_count": 54,
      "outputs": [
        {
          "output_type": "stream",
          "name": "stdout",
          "text": [
            "100\t[[0.02345788]]\t[[0.9765421]]\n",
            "200\t[[0.01176596]]\t[[0.98823404]]\n",
            "300\t[[0.00783807]]\t[[0.9921619]]\n",
            "400\t[[0.00587308]]\t[[0.9941269]]\n",
            "500\t[[0.0046947]]\t[[0.9953053]]\n",
            "600\t[[0.00390965]]\t[[0.99609035]]\n",
            "700\t[[0.00334924]]\t[[0.99665076]]\n",
            "800\t[[0.00292933]]\t[[0.99707067]]\n",
            "900\t[[0.00260282]]\t[[0.9973972]]\n",
            "1000\t[[0.00234175]]\t[[0.99765825]]\n"
          ]
        }
      ]
    },
    {
      "cell_type": "code",
      "metadata": {
        "id": "KHVs1hALZ_bA",
        "colab": {
          "base_uri": "https://localhost:8080/"
        },
        "outputId": "bfd1c194-9745-494b-b8a3-302b946935e5"
      },
      "source": [
        "print(f\"x\\t: {x}\\nweights\\t: {weights}\\nbias\\t: {bias}\")"
      ],
      "execution_count": 55,
      "outputs": [
        {
          "output_type": "stream",
          "name": "stdout",
          "text": [
            "x\t: [[0.01722292 0.8608947  1.5968812 ]]\n",
            "weights\t: [[0.40402716 1.4933097  2.1788676 ]]\n",
            "bias\t: [[1.283583]]\n"
          ]
        }
      ]
    },
    {
      "cell_type": "markdown",
      "metadata": {
        "id": "LQ-syOVwfjB9"
      },
      "source": [
        "### AND Gate"
      ]
    },
    {
      "cell_type": "code",
      "metadata": {
        "id": "HyRma3NorTRs",
        "colab": {
          "base_uri": "https://localhost:8080/"
        },
        "outputId": "581f1abe-0139-4660-db65-4fc92c630243"
      },
      "source": [
        "X= np.array([[1, 1],[1, 0],[0, 1],[0, 0]])\n",
        "Y= np.array([[1],[0],[0],[0]])\n",
        "\n",
        "W= tf.random.normal([2], 0, 1)\n",
        "b= tf.random.normal([1], 0, 1)\n",
        "b_x= 1\n",
        "\n",
        "for i in range(2000):\n",
        "  error_sum= 0\n",
        "\n",
        "  for j in range(4):\n",
        "    output= sigmoid(np.sum(X[j] * W) + b_x + b)\n",
        "    error= Y[j][0] - output\n",
        "    W= W + X[j] * 0.1 * error\n",
        "    b= b + b_x * 0.1 * error\n",
        "    error_sum += error\n",
        "\n",
        "  if i % 200 == 0:\n",
        "    print(f\"Epoch {i:4d}\\tError Sum {error_sum}\")\n",
        "\n",
        "print(f\"\\n가중치\\t: {W}\")\n",
        "print(f\"편향\\t: {b}\")\n"
      ],
      "execution_count": 56,
      "outputs": [
        {
          "output_type": "stream",
          "name": "stdout",
          "text": [
            "Epoch    0\tError Sum [-2.4968371]\n",
            "Epoch  200\tError Sum [-0.11978601]\n",
            "Epoch  400\tError Sum [-0.06891522]\n",
            "Epoch  600\tError Sum [-0.04829627]\n",
            "Epoch  800\tError Sum [-0.03706078]\n",
            "Epoch 1000\tError Sum [-0.03000891]\n",
            "Epoch 1200\tError Sum [-0.02518067]\n",
            "Epoch 1400\tError Sum [-0.0216742]\n",
            "Epoch 1600\tError Sum [-0.01901417]\n",
            "Epoch 1800\tError Sum [-0.01692845]\n",
            "\n",
            "가중치\t: [6.949049 6.952223]\n",
            "편향\t: [-11.60277]\n"
          ]
        }
      ]
    },
    {
      "cell_type": "code",
      "metadata": {
        "id": "OylWtem2stH0",
        "colab": {
          "base_uri": "https://localhost:8080/"
        },
        "outputId": "c0372445-ef54-40d9-9d8a-3cfd6ed72ff1"
      },
      "source": [
        "for i in range(4):\n",
        "  output= sigmoid(np.sum(X[i] * W) + b)\n",
        "  print(f\"X: {X[i]} Y: {Y[i]} Output: {output}\")\n"
      ],
      "execution_count": 57,
      "outputs": [
        {
          "output_type": "stream",
          "name": "stdout",
          "text": [
            "X: [1 1] Y: [1] Output: [0.9087529]\n",
            "X: [1 0] Y: [0] Output: [0.0094362]\n",
            "X: [0 1] Y: [0] Output: [0.00946591]\n",
            "X: [0 0] Y: [0] Output: [9.14065e-06]\n"
          ]
        }
      ]
    },
    {
      "cell_type": "markdown",
      "metadata": {
        "id": "pADtZrsagJ64"
      },
      "source": [
        "### OR Gate"
      ]
    },
    {
      "cell_type": "code",
      "metadata": {
        "id": "X1drqmeNuxIU",
        "colab": {
          "base_uri": "https://localhost:8080/"
        },
        "outputId": "3e0d0d5a-41df-470b-cad8-57a40f2a7ce6"
      },
      "source": [
        "X2= np.array([[1, 1],[1, 0],[0, 1],[0, 0]])\n",
        "Y2= np.array([[1],[1],[1],[0]])\n",
        "\n",
        "W2= tf.random.normal([2], 0, 1)\n",
        "b2= tf.random.normal([1], 0, 1)\n",
        "b_x= 1\n",
        "\n",
        "for i in range(2000):\n",
        "  error_sum= 0\n",
        "\n",
        "  for j in range(4):\n",
        "    output= sigmoid(np.sum(X2[j] * W2) + b_x + b2)\n",
        "    error= Y2[j][0] - output\n",
        "    W2= W2 + X2[j] * 0.1 * error\n",
        "    b2= b2 + b_x * 0.1 * error\n",
        "    error_sum += error\n",
        "\n",
        "  if i % 200 == 0:\n",
        "    print(f\"Epoch {i:4d}\\tError Sum {error_sum}\")\n",
        "\n",
        "print(f\"\\n가중치\\t: {W2}\")\n",
        "print(f\"편향\\t: {b2}\")"
      ],
      "execution_count": 58,
      "outputs": [
        {
          "output_type": "stream",
          "name": "stdout",
          "text": [
            "Epoch    0\tError Sum [-0.7459516]\n",
            "Epoch  200\tError Sum [-0.05085814]\n",
            "Epoch  400\tError Sum [-0.02614591]\n",
            "Epoch  600\tError Sum [-0.01751478]\n",
            "Epoch  800\tError Sum [-0.0131238]\n",
            "Epoch 1000\tError Sum [-0.01047402]\n",
            "Epoch 1200\tError Sum [-0.00870549]\n",
            "Epoch 1400\tError Sum [-0.00744311]\n",
            "Epoch 1600\tError Sum [-0.00649706]\n",
            "Epoch 1800\tError Sum [-0.00576379]\n",
            "\n",
            "가중치\t: [8.203168 8.203548]\n",
            "편향\t: [-4.6361084]\n"
          ]
        }
      ]
    },
    {
      "cell_type": "code",
      "metadata": {
        "id": "FGG4_ZXGgLNd",
        "colab": {
          "base_uri": "https://localhost:8080/"
        },
        "outputId": "75657441-ee36-48be-c041-001be64d3967"
      },
      "source": [
        "for i in range(4):\n",
        "  output= sigmoid(np.sum(X2[i] * W2) + b2)\n",
        "  print(f\"X: {X2[i]} Y: {Y2[i]} Output: {output}\")"
      ],
      "execution_count": 59,
      "outputs": [
        {
          "output_type": "stream",
          "name": "stdout",
          "text": [
            "X: [1 1] Y: [1] Output: [0.99999225]\n",
            "X: [1 0] Y: [1] Output: [0.97253674]\n",
            "X: [0 1] Y: [1] Output: [0.9725469]\n",
            "X: [0 0] Y: [0] Output: [0.00960226]\n"
          ]
        }
      ]
    },
    {
      "cell_type": "markdown",
      "metadata": {
        "id": "IQyeNLdagPw1"
      },
      "source": [
        "### XOR Gate"
      ]
    },
    {
      "cell_type": "code",
      "metadata": {
        "id": "W-BYPnNBgNd9",
        "colab": {
          "base_uri": "https://localhost:8080/"
        },
        "outputId": "0922c55c-b465-4657-9313-8447c877ef8c"
      },
      "source": [
        "X3= np.array([[1, 1],[1, 0],[0, 1],[0, 0]])\n",
        "Y3= np.array([[0],[1],[1],[0]])\n",
        "\n",
        "W3= tf.random.normal([2], 0, 1)\n",
        "b3= tf.random.normal([1], 0, 1)\n",
        "b_x= 1\n",
        "\n",
        "for i in range(2000):\n",
        "  error_sum= 0\n",
        "\n",
        "  for j in range(4):\n",
        "    output= sigmoid(np.sum(X3[j] * W3) + b_x + b3)\n",
        "    error= Y3[j][0] - output\n",
        "    W3= W3 + X3[j] * 0.1 * error\n",
        "    b3= b3 + b_x * 0.1 * error\n",
        "    error_sum += error\n",
        "\n",
        "  if i % 200 == 0:\n",
        "    print(f\"Epoch {i:4d}\\tError Sum {error_sum}\")\n",
        "\n",
        "print(f\"\\n가중치\\t: {W3}\")\n",
        "print(f\"편향\\t: {b3}\")"
      ],
      "execution_count": 60,
      "outputs": [
        {
          "output_type": "stream",
          "name": "stdout",
          "text": [
            "Epoch    0\tError Sum [-0.8613183]\n",
            "Epoch  200\tError Sum [-0.00946814]\n",
            "Epoch  400\tError Sum [-0.00038511]\n",
            "Epoch  600\tError Sum [-1.579523e-05]\n",
            "Epoch  800\tError Sum [-1.013279e-06]\n",
            "Epoch 1000\tError Sum [-1.013279e-06]\n",
            "Epoch 1200\tError Sum [-1.013279e-06]\n",
            "Epoch 1400\tError Sum [-1.013279e-06]\n",
            "Epoch 1600\tError Sum [-1.013279e-06]\n",
            "Epoch 1800\tError Sum [-1.013279e-06]\n",
            "\n",
            "가중치\t: [ 5.1279660e-02 -2.0749867e-06]\n",
            "편향\t: [-0.9999969]\n"
          ]
        }
      ]
    },
    {
      "cell_type": "code",
      "metadata": {
        "id": "z1EWz3N5gRfH",
        "colab": {
          "base_uri": "https://localhost:8080/"
        },
        "outputId": "7143f12f-57bd-450d-e245-f368511c732f"
      },
      "source": [
        "for i in range(4):\n",
        "  output= sigmoid(np.sum(X3[i] * W3) + b3)\n",
        "  print(f\"X: {X3[i]} Y: {Y3[i]} Output: {output}\")"
      ],
      "execution_count": 61,
      "outputs": [
        {
          "output_type": "stream",
          "name": "stdout",
          "text": [
            "X: [1 1] Y: [0] Output: [0.27914244]\n",
            "X: [1 0] Y: [1] Output: [0.2791429]\n",
            "X: [0 1] Y: [1] Output: [0.2689416]\n",
            "X: [0 0] Y: [0] Output: [0.26894203]\n"
          ]
        }
      ]
    },
    {
      "cell_type": "code",
      "metadata": {
        "id": "duXh8GGkgUET",
        "colab": {
          "base_uri": "https://localhost:8080/"
        },
        "outputId": "fb978dcd-4a59-407c-8598-4e8d8e297a6b"
      },
      "source": [
        "from tensorflow.keras import Sequential\n",
        "from tensorflow.keras.layers import Dense\n",
        "\n",
        "np.random.seed(111)\n",
        "\n",
        "X4= np.array([[1,1],[1, 0],[0, 1],[0, 0]])\n",
        "Y4= np.array([[0],[1],[1],[0]])\n",
        "\n",
        "model= Sequential([Dense(units= 2, activation='sigmoid', input_shape=(2, )),\n",
        "                    Dense(units=1, activation= 'sigmoid')])\n",
        "\n",
        "model.compile(optimizer=tf.keras.optimizers.SGD(lr=0.1), loss='mse')\n",
        "\n",
        "model.summary()"
      ],
      "execution_count": 62,
      "outputs": [
        {
          "output_type": "stream",
          "name": "stdout",
          "text": [
            "Model: \"sequential\"\n",
            "_________________________________________________________________\n",
            " Layer (type)                Output Shape              Param #   \n",
            "=================================================================\n",
            " dense_2 (Dense)             (None, 2)                 6         \n",
            "                                                                 \n",
            " dense_3 (Dense)             (None, 1)                 3         \n",
            "                                                                 \n",
            "=================================================================\n",
            "Total params: 9\n",
            "Trainable params: 9\n",
            "Non-trainable params: 0\n",
            "_________________________________________________________________\n"
          ]
        },
        {
          "output_type": "stream",
          "name": "stderr",
          "text": [
            "/usr/local/lib/python3.7/dist-packages/keras/optimizer_v2/gradient_descent.py:102: UserWarning: The `lr` argument is deprecated, use `learning_rate` instead.\n",
            "  super(SGD, self).__init__(name, **kwargs)\n"
          ]
        }
      ]
    },
    {
      "cell_type": "code",
      "metadata": {
        "id": "HYf3E6w6gV3z"
      },
      "source": [
        "history= model.fit(X4, Y4, epochs=2000, batch_size=1, verbose=0)"
      ],
      "execution_count": 66,
      "outputs": []
    },
    {
      "cell_type": "code",
      "metadata": {
        "id": "0ZuQIfAZgXzD",
        "colab": {
          "base_uri": "https://localhost:8080/"
        },
        "outputId": "4540316d-afce-43ea-93e4-d3da7fcd1329"
      },
      "source": [
        "model.predict(X4)"
      ],
      "execution_count": 67,
      "outputs": [
        {
          "output_type": "execute_result",
          "data": {
            "text/plain": [
              "array([[0.09790666],\n",
              "       [0.9060256 ],\n",
              "       [0.9062646 ],\n",
              "       [0.07417815]], dtype=float32)"
            ]
          },
          "metadata": {},
          "execution_count": 67
        }
      ]
    },
    {
      "cell_type": "markdown",
      "metadata": {
        "id": "NgHTUlX68Fyk"
      },
      "source": [
        "## 시각화 사용"
      ]
    },
    {
      "cell_type": "code",
      "metadata": {
        "id": "a8azIYHQ8H16",
        "colab": {
          "base_uri": "https://localhost:8080/",
          "height": 262
        },
        "outputId": "1c986ca4-1bec-4e94-aa11-c18061c71f0b"
      },
      "source": [
        "import matplotlib.pyplot as plt\n",
        "plt.style.use('seaborn-white')\n",
        "\n",
        "x= range(50)\n",
        "y= tf.random.normal([50], 0, 1)\n",
        "plt.plot(x, y, 'ro')\n",
        "plt.show()"
      ],
      "execution_count": 70,
      "outputs": [
        {
          "output_type": "display_data",
          "data": {
            "image/png": "[encoded data removed]",
            "text/plain": [
              "<Figure size 432x288 with 1 Axes>"
            ]
          },
          "metadata": {}
        }
      ]
    },
    {
      "cell_type": "code",
      "metadata": {
        "id": "hX-S0ZvF8Hq6",
        "colab": {
          "base_uri": "https://localhost:8080/",
          "height": 262
        },
        "outputId": "2e308f09-3c4b-4e21-c7a5-55edeae27221"
      },
      "source": [
        "x= range(50)\n",
        "y= tf.random.normal([50], 0, 1)\n",
        "plt.plot(x, y)\n",
        "plt.show()"
      ],
      "execution_count": 72,
      "outputs": [
        {
          "output_type": "display_data",
          "data": {
            "image/png": "[encoded data removed]",
            "text/plain": [
              "<Figure size 432x288 with 1 Axes>"
            ]
          },
          "metadata": {}
        }
      ]
    },
    {
      "cell_type": "code",
      "metadata": {
        "id": "2teBa4878XEI",
        "colab": {
          "base_uri": "https://localhost:8080/",
          "height": 262
        },
        "outputId": "f981ddc5-7475-4602-d06d-2efe3a442b83"
      },
      "source": [
        "x= range(50)\n",
        "y= tf.random.normal([50], 0, 1)\n",
        "plt.plot(x, y, 'g-')\n",
        "plt.show()"
      ],
      "execution_count": 74,
      "outputs": [
        {
          "output_type": "display_data",
          "data": {
            "image/png": "[encoded data removed]",
            "text/plain": [
              "<Figure size 432x288 with 1 Axes>"
            ]
          },
          "metadata": {}
        }
      ]
    },
    {
      "cell_type": "code",
      "metadata": {
        "id": "43W0ygJj8XA1",
        "colab": {
          "base_uri": "https://localhost:8080/",
          "height": 262
        },
        "outputId": "686e15e7-d832-42c2-f7b3-ef9c7cbbf2b2"
      },
      "source": [
        "x= range(50)\n",
        "y= tf.random.normal([50], 0, 1)\n",
        "plt.plot(x, y, 'b--')\n",
        "plt.show()"
      ],
      "execution_count": 76,
      "outputs": [
        {
          "output_type": "display_data",
          "data": {
            "image/png": "[encoded data removed]",
            "text/plain": [
              "<Figure size 432x288 with 1 Axes>"
            ]
          },
          "metadata": {}
        }
      ]
    },
    {
      "cell_type": "code",
      "metadata": {
        "id": "HkF8DN5a8fWR",
        "colab": {
          "base_uri": "https://localhost:8080/",
          "height": 262
        },
        "outputId": "4e784279-4500-4050-f880-37a5537c4134"
      },
      "source": [
        "x= tf.random.normal([10000], 0, 1)\n",
        "plt.hist(x, bins=100)\n",
        "plt.show()"
      ],
      "execution_count": 81,
      "outputs": [
        {
          "output_type": "display_data",
          "data": {
            "image/png": "[encoded data removed]",
            "text/plain": [
              "<Figure size 432x288 with 1 Axes>"
            ]
          },
          "metadata": {}
        }
      ]
    },
    {
      "cell_type": "markdown",
      "metadata": {
        "id": "aL-QTl5Q8mdB"
      },
      "source": [
        "### XOR Gate의 'LOSS' 시각화\n"
      ]
    },
    {
      "cell_type": "code",
      "metadata": {
        "id": "vs8dlY1o8iby",
        "colab": {
          "base_uri": "https://localhost:8080/",
          "height": 280
        },
        "outputId": "baa355ec-1d56-477f-ea32-4f17694450aa"
      },
      "source": [
        "plt.plot(history.history['loss'])"
      ],
      "execution_count": 84,
      "outputs": [
        {
          "output_type": "execute_result",
          "data": {
            "text/plain": [
              "[<matplotlib.lines.Line2D at 0x7f13815bb510>]"
            ]
          },
          "metadata": {},
          "execution_count": 84
        },
        {
          "output_type": "display_data",
          "data": {
            "image/png": "[encoded data removed]",
            "text/plain": [
              "<Figure size 432x288 with 1 Axes>"
            ]
          },
          "metadata": {}
        }
      ]
    },
    {
      "cell_type": "code",
      "source": [
        ""
      ],
      "metadata": {
        "id": "Qc1WNCBPLHCr"
      },
      "execution_count": null,
      "outputs": []
    }
  ]
}